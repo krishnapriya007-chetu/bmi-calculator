{
 "cells": [
  {
   "cell_type": "markdown",
   "id": "4690ccae-1463-4070-a2ef-1b4ff03ef90c",
   "metadata": {},
   "source": [
    "BMI CALCULATOR\n"
   ]
  },
  {
   "cell_type": "markdown",
   "id": "0b15802b-e706-4a3c-b5ff-da68c41543e7",
   "metadata": {},
   "source": [
    "BMI = (Weight in pounds x 703) / (Height in inches x height in inches )"
   ]
  },
  {
   "cell_type": "code",
   "execution_count": 2,
   "id": "0ad62b2a-9a9e-4597-a542-e72e7dfece9a",
   "metadata": {},
   "outputs": [],
   "source": [
    "import tkinter as tk\n",
    "from tkinter import messagebox\n",
    "\n",
    "def calculate_bmi():\n",
    "    try:\n",
    "        name = name_entry.get()\n",
    "        weight = float(weight_entry.get())\n",
    "        height = float(height_entry.get())\n",
    "\n",
    "        BMI = (weight * 703) / (height * height)\n",
    "        result = f\"BMI: {BMI:.2f}\\n\"\n",
    "\n",
    "        if BMI > 0:\n",
    "            if BMI < 18.5:\n",
    "                message = f\"{name}, you are underweight.\"\n",
    "            elif BMI >= 18.5 and BMI < 24.9:\n",
    "                message = f\"{name}, you are normal weight.\"\n",
    "            elif BMI >= 18.5 and BMI <= 24.9:\n",
    "                message = f\"{name}, you are overweight weight.\"\n",
    "            elif BMI >= 25 and BMI <= 29.9:\n",
    "                message = f\"{name}, you are obese.\"\n",
    "            elif BMI >= 30 and BMI <= 34.9:\n",
    "                message = f\"{name}, you are severely obese.\"\n",
    "            elif BMI >= 35 and BMI <= 39.9:\n",
    "                message = f\"{name}, you are morbidly obese.\"\n",
    "            else:\n",
    "                message = \"Enter valid input\"\n",
    "        else:\n",
    "            message = \"Enter valid input\"\n",
    "\n",
    "        messagebox.showinfo(\"BMI Result\", result + message)\n",
    "\n",
    "    except ValueError:\n",
    "        messagebox.showerror(\"Input Error\", \"Please enter valid numbers!\")\n",
    "\n",
    "# Tkinter window\n",
    "root = tk.Tk()\n",
    "root.title(\"BMI Calculator\")\n",
    "root.geometry(\"300x250\")\n",
    "\n",
    "tk.Label(root, text=\"Enter your name:\").pack(pady=5)\n",
    "name_entry = tk.Entry(root)\n",
    "name_entry.pack()\n",
    "\n",
    "tk.Label(root, text=\"Weight (pounds):\").pack(pady=5)\n",
    "weight_entry = tk.Entry(root)\n",
    "weight_entry.pack()\n",
    "\n",
    "tk.Label(root, text=\"Height (inches):\").pack(pady=5)\n",
    "height_entry = tk.Entry(root)\n",
    "height_entry.pack()\n",
    "\n",
    "tk.Button(root, text=\"Calculate BMI\", command=calculate_bmi, bg=\"green\", fg=\"white\").pack(pady=10)\n",
    "\n",
    "root.mainloop()\n"
   ]
  },
  {
   "cell_type": "code",
   "execution_count": null,
   "id": "d5365352-78d2-4062-bbab-9830dad226e7",
   "metadata": {},
   "outputs": [],
   "source": []
  }
 ],
 "metadata": {
  "kernelspec": {
   "display_name": "Python 3 (ipykernel)",
   "language": "python",
   "name": "python3"
  },
  "language_info": {
   "codemirror_mode": {
    "name": "ipython",
    "version": 3
   },
   "file_extension": ".py",
   "mimetype": "text/x-python",
   "name": "python",
   "nbconvert_exporter": "python",
   "pygments_lexer": "ipython3",
   "version": "3.12.3"
  }
 },
 "nbformat": 4,
 "nbformat_minor": 5
}
